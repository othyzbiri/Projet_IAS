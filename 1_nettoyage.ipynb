{
 "cells": [
  {
   "cell_type": "markdown",
   "metadata": {},
   "source": [
    "# Nettoyage des données"
   ]
  },
  {
   "cell_type": "markdown",
   "metadata": {},
   "source": [
    "Le package `pyarrow` est nécessaire pour lire et écrire des fichiers parquet"
   ]
  },
  {
   "cell_type": "code",
   "execution_count": 11,
   "metadata": {},
   "outputs": [
    {
     "name": "stdout",
     "output_type": "stream",
     "text": [
      "Requirement already satisfied: pyarrow in /usr/local/python/3.10.8/lib/python3.10/site-packages (14.0.1)\n",
      "Requirement already satisfied: numpy>=1.16.6 in /home/codespace/.local/lib/python3.10/site-packages (from pyarrow) (1.26.1)\n",
      "\n",
      "\u001b[1m[\u001b[0m\u001b[34;49mnotice\u001b[0m\u001b[1;39;49m]\u001b[0m\u001b[39;49m A new release of pip is available: \u001b[0m\u001b[31;49m23.3\u001b[0m\u001b[39;49m -> \u001b[0m\u001b[32;49m23.3.1\u001b[0m\n",
      "\u001b[1m[\u001b[0m\u001b[34;49mnotice\u001b[0m\u001b[1;39;49m]\u001b[0m\u001b[39;49m To update, run: \u001b[0m\u001b[32;49mpip install --upgrade pip\u001b[0m\n",
      "Note: you may need to restart the kernel to use updated packages.\n"
     ]
    }
   ],
   "source": [
    "%pip install pyarrow"
   ]
  },
  {
   "cell_type": "code",
   "execution_count": 12,
   "metadata": {},
   "outputs": [],
   "source": [
    "import pandas as pd"
   ]
  },
  {
   "cell_type": "markdown",
   "metadata": {},
   "source": [
    "On charge le fichier de données"
   ]
  },
  {
   "cell_type": "code",
   "execution_count": 13,
   "metadata": {},
   "outputs": [],
   "source": [
    "data_path = \"data/IM2S_GHS_RSS_Bloc_2019_2022_anonyme.xlsx\"\n",
    "df = pd.read_excel(data_path)"
   ]
  },
  {
   "cell_type": "markdown",
   "metadata": {},
   "source": [
    "On commence par renommer les colonnes pour plus de lisibilité"
   ]
  },
  {
   "cell_type": "code",
   "execution_count": null,
   "metadata": {},
   "outputs": [],
   "source": [
    "df.rename(\n",
    "    columns={\n",
    "        'Date EntrÈe': 'date_entree',\n",
    "        'Date Sortie': 'date_sortie',\n",
    "        'Date Naissance': 'date_naissance',\n",
    "        'Sexe': 'sexe',\n",
    "        'CIM Diag Pr.': 'cim_diag_pr',\n",
    "        'CCAM 1': 'ccam_1',\n",
    "        'CCAM 2': 'ccam_2',\n",
    "        'CCAM 3': 'ccam_3',\n",
    "        'CCAM 4': 'ccam_4',\n",
    "        'GHM Code': 'ghm_code',\n",
    "        'Anesthesiste': 'anesthesiste',\n",
    "        'Chirurgien': 'chirurgien',\n",
    "        'AnnÈe': 'annee',\n",
    "        'ID Patient': 'id_patient',\n",
    "        'Date Inter': 'date_inter',\n",
    "        'Nom Patient': 'nom_patient',\n",
    "        \"Heure entrée SSPI avant intervention (cela correspond à un SAS de pré-anesthésie). Si cette heure est la même que l'heure d'entrée en salle d'opération, cela signifie qu'il n'y as pas eu de passage en SSPI pré op\": 'heure_entree_sspi',\n",
    "        \"Heure d'entrée en salle d'opération (calimed)\": 'heure_entree_salle',\n",
    "        'Heure Incision ': 'heure_incision',\n",
    "        \"Heure de sortie de salle d'opération (calimed)\" : 'heure_sortie_salle',\n",
    "        'Anesth Type' : 'anesth_type',\n",
    "        'Anesth Loco_reg' : 'anesth_loco_reg',\n",
    "        'DurÈe Sèjour en jour (1 pour ambu)' : 'duree_sejour',\n",
    "        'Interv Type' : 'interv_type',\n",
    "    },\n",
    "    inplace=True\n",
    ")"
   ]
  },
  {
   "cell_type": "markdown",
   "metadata": {},
   "source": [
    "On supprime les colonnes et les lignes inutiles"
   ]
  },
  {
   "cell_type": "code",
   "execution_count": null,
   "metadata": {},
   "outputs": [],
   "source": [
    "# Suppression des lignes non pertinentes\n",
    "df = df.query(\"interv_type != 'Varices'\")\n",
    "\n",
    "# Suppression des lignes sans durée de séjour\n",
    "df = df.query(\"duree_sejour < 1000\")\n",
    "\n",
    "# Suppression des colonnes inutiles\n",
    "df = df.drop(\n",
    "    columns=[\n",
    "        'Cim Assoc 1',\n",
    "        'Cim Assoc 2',\n",
    "        'Cim Assoc 3',\n",
    "        'Cim Assoc 4',\n",
    "        'Cim Assoc 5',\n",
    "        'Colonne2',\n",
    "        'Colonne1',\n",
    "    ]\n",
    ")"
   ]
  },
  {
   "cell_type": "markdown",
   "metadata": {},
   "source": [
    "On convertit les dates en datetime et on code les variables catégorielles"
   ]
  },
  {
   "cell_type": "code",
   "execution_count": null,
   "metadata": {},
   "outputs": [],
   "source": [
    "# Conversion des dates en datetime\n",
    "df['heure_entree_sspi'] = pd.to_timedelta(df['heure_entree_sspi'].astype(str))\n",
    "df['heure_entree_salle'] = pd.to_timedelta(df['heure_entree_salle'].astype(str))\n",
    "df['heure_incision'] = pd.to_timedelta(df['heure_incision'].astype(str))\n",
    "df['heure_sortie_salle'] = pd.to_timedelta(df['heure_sortie_salle'].astype(str))\n",
    "\n",
    "# Calcul de la durée d'opération\n",
    "df['duree_sspi'] = df['heure_entree_salle'] - df['heure_entree_sspi']\n",
    "df['duree_op'] = df['heure_sortie_salle'] - df['heure_entree_salle']\n",
    "\n",
    "# Calcul de l'âge\n",
    "df['age'] = df['date_entree'] - df['date_naissance']\n",
    "\n",
    "# Ajout de la colonne urgence\n",
    "df['urgence'] = df.cim_diag_pr.str.startswith('S')\n",
    "\n",
    "# Codage des variables\n",
    "df['cim_diag_pr'] = df['cim_diag_pr'].astype('category').cat.codes\n",
    "df['ccam_1'] = df['ccam_1'].astype('category').cat.codes\n",
    "df['ccam_2'] = df['ccam_2'].astype('category').cat.codes\n",
    "df['ccam_3'] = df['ccam_3'].astype('category').cat.codes\n",
    "df['ccam_4'] = df['ccam_4'].astype('category').cat.codes\n",
    "df['ghm_code'] = df['ghm_code'].astype('category').cat.codes\n",
    "df['anesthesiste'] = df['anesthesiste'].astype('category').cat.codes\n",
    "df['chirurgien'] = df['chirurgien'].astype('category').cat.codes\n",
    "df['anesth_type'] = df['anesth_type'].astype('category').cat.codes\n",
    "df['anesth_loco_reg'] = df['anesth_loco_reg'].astype('category').cat.codes\n",
    "df['interv_type'] = df['interv_type'].astype('category').cat.codes"
   ]
  },
  {
   "cell_type": "markdown",
   "metadata": {},
   "source": [
    "On enregistre le résultat dans un fichier parquet"
   ]
  },
  {
   "cell_type": "code",
   "execution_count": null,
   "metadata": {},
   "outputs": [],
   "source": [
    "df.to_parquet('data/clean_data.parquet', index=False)"
   ]
  }
 ],
 "metadata": {
  "kernelspec": {
   "display_name": "Python 3",
   "language": "python",
   "name": "python3"
  },
  "language_info": {
   "codemirror_mode": {
    "name": "ipython",
    "version": 3
   },
   "file_extension": ".py",
   "mimetype": "text/x-python",
   "name": "python",
   "nbconvert_exporter": "python",
   "pygments_lexer": "ipython3",
   "version": "3.10.8"
  }
 },
 "nbformat": 4,
 "nbformat_minor": 2
}
