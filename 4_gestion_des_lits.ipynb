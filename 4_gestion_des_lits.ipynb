{
 "cells": [
  {
   "cell_type": "markdown",
   "metadata": {},
   "source": [
    "# Gestion des lits"
   ]
  },
  {
   "cell_type": "code",
   "execution_count": 15,
   "metadata": {},
   "outputs": [],
   "source": [
    "import pandas as pd\n",
    "import numpy as np\n",
    "import matplotlib.pyplot as plt\n",
    "import plotly.express as px\n",
    "from tqdm import tqdm"
   ]
  },
  {
   "cell_type": "markdown",
   "metadata": {},
   "source": [
    "## Données d'entrée"
   ]
  },
  {
   "cell_type": "code",
   "execution_count": 48,
   "metadata": {},
   "outputs": [],
   "source": [
    "num_salles = 4\n",
    "num_lits = 25\n",
    "\n",
    "num_patients = 300\n",
    "num_chiurgiens = 10\n",
    "\n",
    "np.random.seed(0)\n",
    "\n",
    "patients = pd.DataFrame({\n",
    "    'id': np.arange(num_patients),\n",
    "    'nom': np.random.choice(['Jean', 'Pierre', 'Paul', 'Jacques', 'Marie', 'Anne', 'Julie', 'Sophie', 'Marine', 'Marion'], size=num_patients),\n",
    "    'marker': np.random.shuffle(np.arange(num_patients))\n",
    "})\n",
    "\n",
    "positions = pd.DataFrame({\n",
    "    'id': np.arange(num_patients),\n",
    "    'date': pd.to_datetime(19723 + np.random.randint(0, 180, size=num_patients), unit='D'),\n",
    "    'patient': np.random.randint(0, 100, size=num_patients),\n",
    "    'salle': np.random.randint(0, num_salles, size=num_patients),\n",
    "})\n",
    "\n",
    "operations = pd.DataFrame({\n",
    "    'id': np.arange(num_patients),\n",
    "    'patient': np.random.randint(0, num_patients, size=num_patients),\n",
    "    'duree_op': pd.to_timedelta(np.random.normal(180*60, 30*60, size=num_patients), unit='s'),\n",
    "    'duree_sspi': pd.to_timedelta(np.random.randint(5*60, 60*60, size=num_patients), unit='s'),\n",
    "    'duree_sejour': pd.to_timedelta(np.random.randint(1, 10, size=num_patients), unit='D'),\n",
    "    'urgence': np.random.random(num_patients) > 0.8,\n",
    "    'chirurgien': np.random.randint(0, num_chiurgiens, size=num_patients),\n",
    "    'date_rdv': pd.to_datetime(19723 + np.random.randint(0, 60, size=num_patients), unit='D'),\n",
    "    'sejour': -1*np.ones(num_patients)\n",
    "})\n",
    "\n",
    "sejours = pd.DataFrame({\n",
    "    'id': [],\n",
    "    'patient': [],\n",
    "    'date_entree': [],\n",
    "    'date_sortie': [],\n",
    "    'lit': []\n",
    "})"
   ]
  },
  {
   "cell_type": "markdown",
   "metadata": {},
   "source": [
    "## Optimisation"
   ]
  },
  {
   "cell_type": "code",
   "execution_count": 49,
   "metadata": {},
   "outputs": [],
   "source": [
    "# Paramètres\n",
    "\n",
    "# Ecart max entre deux séjours pour les regrouper\n",
    "sejour_ecart_max = pd.to_timedelta(3, unit='D')\n",
    "\n",
    "# Tolerance pour les urgences\n",
    "tolerance_urgence = pd.to_timedelta(2, unit='D')"
   ]
  },
  {
   "cell_type": "code",
   "execution_count": 50,
   "metadata": {},
   "outputs": [],
   "source": [
    "def premier_lit_dispo(sejours, date):\n",
    "    \"\"\"Renvoie le premier lit disponible à une date donnée.\"\"\"\n",
    "    if sejours.empty:\n",
    "        return 0\n",
    "    nb_lit = 0\n",
    "\n",
    "    while not sejours.loc[\n",
    "        (sejours['date_entree'] <= date)\n",
    "        & (sejours['date_sortie'] > date)\n",
    "        & (sejours['lit'] == nb_lit)\n",
    "    ].empty:\n",
    "        nb_lit += 1\n",
    "    return nb_lit\n",
    "\n",
    "\n",
    "def creer_sejour(patient, sejours, operation):\n",
    "    \"\"\"Crée un séjour pour un patient à partir d'une opération.\"\"\"\n",
    "    return {\n",
    "        'id': len(sejours),\n",
    "        'patient': patient['id'],\n",
    "        'date_entree': operation['date_rdv'],\n",
    "        'date_sortie': operation['date_rdv'] + operation['duree_sejour'],\n",
    "        'lit': -1\n",
    "    }\n",
    "\n",
    "\n",
    "def ajuster_sejour(sejour, operation):\n",
    "    \"\"\"Ajuste un séjour pour un patient à partir d'une opération.\"\"\"\n",
    "    sejour['date_sortie'] = operation['date_rdv'] + operation['duree_sejour']\n",
    "    return sejour\n",
    "\n",
    "\n",
    "def ajuster_lits(sejours):\n",
    "    \"\"\"Ajuste les lits des séjours.\"\"\"\n",
    "    nouv_sejours = sejours.copy().sort_values('date_entree')\n",
    "    for idx, sejour in nouv_sejours.iterrows():\n",
    "        nouv_sejours.loc[idx, 'lit'] = premier_lit_dispo(nouv_sejours, sejour['date_entree'])\n",
    "    return nouv_sejours\n",
    "\n",
    "\n",
    "def creer_sejours(sejours, patients, operations):\n",
    "    \"\"\"Crée les séjours à partir des opérations.\"\"\"\n",
    "    nouv_sejours = sejours.copy()\n",
    "\n",
    "    for pat_idx, patient in patients.iterrows():\n",
    "        patient_operations = operations.loc[operations['patient'] == patient['id']]\n",
    "        patient_operations = patient_operations.sort_values('date_rdv')\n",
    "        \n",
    "        for op_idx, operation in patient_operations.iterrows():\n",
    "            # si le patient n'a pas de séjour, on en crée un\n",
    "            if nouv_sejours.loc[nouv_sejours['patient'] == patient['id']].empty:\n",
    "                nouv_sejours.loc[len(nouv_sejours)] = creer_sejour(patient, nouv_sejours, operation)\n",
    "                operations.loc[op_idx, 'sejour'] = len(nouv_sejours) - 1\n",
    "            else:\n",
    "                # sinon on récupère le dernier séjour\n",
    "                last_sejour = nouv_sejours.loc[nouv_sejours['patient'] == patient['id']].iloc[-1]\n",
    "                \n",
    "                if operation['date_rdv'] - last_sejour['date_sortie'] > sejour_ecart_max:\n",
    "                    # si l'opération est trop loin, on crée un nouveau séjour\n",
    "                    nouv_sejours.loc[len(nouv_sejours)] = creer_sejour(patient, nouv_sejours, operation)\n",
    "                    operations.loc[op_idx, 'sejour'] = len(nouv_sejours) - 1\n",
    "                else:\n",
    "                    # sinon on ajuste le dernier séjour\n",
    "                    nouv_sejours.loc[last_sejour['id']] = ajuster_sejour(last_sejour, operation)\n",
    "                    operations.loc[op_idx, 'sejour'] = last_sejour['id']\n",
    "    return nouv_sejours"
   ]
  },
  {
   "cell_type": "code",
   "execution_count": 51,
   "metadata": {},
   "outputs": [
    {
     "data": {
      "text/html": [
       "<div>\n",
       "<style scoped>\n",
       "    .dataframe tbody tr th:only-of-type {\n",
       "        vertical-align: middle;\n",
       "    }\n",
       "\n",
       "    .dataframe tbody tr th {\n",
       "        vertical-align: top;\n",
       "    }\n",
       "\n",
       "    .dataframe thead th {\n",
       "        text-align: right;\n",
       "    }\n",
       "</style>\n",
       "<table border=\"1\" class=\"dataframe\">\n",
       "  <thead>\n",
       "    <tr style=\"text-align: right;\">\n",
       "      <th></th>\n",
       "      <th>id</th>\n",
       "      <th>patient</th>\n",
       "      <th>date_entree</th>\n",
       "      <th>date_sortie</th>\n",
       "      <th>lit</th>\n",
       "    </tr>\n",
       "  </thead>\n",
       "  <tbody>\n",
       "    <tr>\n",
       "      <th>78</th>\n",
       "      <td>78</td>\n",
       "      <td>88</td>\n",
       "      <td>2024-01-01</td>\n",
       "      <td>2024-01-10</td>\n",
       "      <td>-1</td>\n",
       "    </tr>\n",
       "    <tr>\n",
       "      <th>136</th>\n",
       "      <td>136</td>\n",
       "      <td>143</td>\n",
       "      <td>2024-01-01</td>\n",
       "      <td>2024-01-09</td>\n",
       "      <td>-1</td>\n",
       "    </tr>\n",
       "    <tr>\n",
       "      <th>164</th>\n",
       "      <td>164</td>\n",
       "      <td>176</td>\n",
       "      <td>2024-01-01</td>\n",
       "      <td>2024-01-03</td>\n",
       "      <td>-1</td>\n",
       "    </tr>\n",
       "    <tr>\n",
       "      <th>145</th>\n",
       "      <td>145</td>\n",
       "      <td>151</td>\n",
       "      <td>2024-01-01</td>\n",
       "      <td>2024-01-07</td>\n",
       "      <td>-1</td>\n",
       "    </tr>\n",
       "    <tr>\n",
       "      <th>38</th>\n",
       "      <td>38</td>\n",
       "      <td>45</td>\n",
       "      <td>2024-01-02</td>\n",
       "      <td>2024-01-05</td>\n",
       "      <td>-1</td>\n",
       "    </tr>\n",
       "    <tr>\n",
       "      <th>62</th>\n",
       "      <td>62</td>\n",
       "      <td>72</td>\n",
       "      <td>2024-01-02</td>\n",
       "      <td>2024-01-10</td>\n",
       "      <td>-1</td>\n",
       "    </tr>\n",
       "    <tr>\n",
       "      <th>25</th>\n",
       "      <td>25</td>\n",
       "      <td>29</td>\n",
       "      <td>2024-01-02</td>\n",
       "      <td>2024-01-22</td>\n",
       "      <td>-1</td>\n",
       "    </tr>\n",
       "    <tr>\n",
       "      <th>21</th>\n",
       "      <td>21</td>\n",
       "      <td>26</td>\n",
       "      <td>2024-01-02</td>\n",
       "      <td>2024-01-10</td>\n",
       "      <td>-1</td>\n",
       "    </tr>\n",
       "    <tr>\n",
       "      <th>130</th>\n",
       "      <td>130</td>\n",
       "      <td>139</td>\n",
       "      <td>2024-01-02</td>\n",
       "      <td>2024-01-08</td>\n",
       "      <td>-1</td>\n",
       "    </tr>\n",
       "    <tr>\n",
       "      <th>36</th>\n",
       "      <td>36</td>\n",
       "      <td>43</td>\n",
       "      <td>2024-01-02</td>\n",
       "      <td>2024-01-07</td>\n",
       "      <td>-1</td>\n",
       "    </tr>\n",
       "  </tbody>\n",
       "</table>\n",
       "</div>"
      ],
      "text/plain": [
       "      id  patient date_entree date_sortie  lit\n",
       "78    78       88  2024-01-01  2024-01-10   -1\n",
       "136  136      143  2024-01-01  2024-01-09   -1\n",
       "164  164      176  2024-01-01  2024-01-03   -1\n",
       "145  145      151  2024-01-01  2024-01-07   -1\n",
       "38    38       45  2024-01-02  2024-01-05   -1\n",
       "62    62       72  2024-01-02  2024-01-10   -1\n",
       "25    25       29  2024-01-02  2024-01-22   -1\n",
       "21    21       26  2024-01-02  2024-01-10   -1\n",
       "130  130      139  2024-01-02  2024-01-08   -1\n",
       "36    36       43  2024-01-02  2024-01-07   -1"
      ]
     },
     "execution_count": 51,
     "metadata": {},
     "output_type": "execute_result"
    }
   ],
   "source": [
    "sejours = creer_sejours(sejours, patients, operations).sort_values('date_entree')\n",
    "sejours.head(10)"
   ]
  },
  {
   "cell_type": "code",
   "execution_count": 52,
   "metadata": {},
   "outputs": [],
   "source": [
    "def nb_patients_sejour(sejours, date):\n",
    "    \"\"\"Renvoie le nombre de patients en séjour à une date donnée.\"\"\"\n",
    "    if sejours.empty:\n",
    "        return 0\n",
    "    return len(sejours.loc[(sejours['date_entree'] <= date) & (sejours['date_sortie'] > date)])\n",
    "        \n",
    "\n",
    "def nb_patients_sejours(sejours):\n",
    "    \"\"\"Renvoie le nombre de patients en séjour aux dates d'entrée des séjours.\"\"\"\n",
    "    return np.array([nb_patients_sejour(sejours, date) for date in sejours['date_entree']])"
   ]
  },
  {
   "cell_type": "code",
   "execution_count": 53,
   "metadata": {},
   "outputs": [
    {
     "data": {
      "text/plain": [
       "<matplotlib.legend.Legend at 0x7fc094bcb4c0>"
      ]
     },
     "execution_count": 53,
     "metadata": {},
     "output_type": "execute_result"
    },
    {
     "data": {
      "image/png": "[encoded data removed]",
      "text/plain": [
       "<Figure size 1200x300 with 1 Axes>"
      ]
     },
     "metadata": {},
     "output_type": "display_data"
    }
   ],
   "source": [
    "plt.figure(figsize=(12, 3))\n",
    "plt.plot(sejours['date_entree'], nb_patients_sejours(sejours), label='Nombre de patients en séjour')\n",
    "plt.hlines(num_lits, sejours['date_entree'].min(), sejours['date_entree'].max(), color='red', linestyles='dashed', label='Nombre de lits')\n",
    "plt.xlabel('Date')\n",
    "plt.ylabel('Nombre de patients en séjour')\n",
    "plt.legend()"
   ]
  },
  {
   "cell_type": "code",
   "execution_count": 54,
   "metadata": {},
   "outputs": [
    {
     "data": {
      "text/plain": [
       "608"
      ]
     },
     "execution_count": 54,
     "metadata": {},
     "output_type": "execute_result"
    }
   ],
   "source": [
    "def conflits_lits(sejours):\n",
    "    \"\"\"Renvoie le nombre de conflits de lits.\"\"\"\n",
    "    return (nb_patients_sejours(sejours) - num_lits).clip(0).sum()\n",
    "\n",
    "conflits_lits(sejours)"
   ]
  },
  {
   "cell_type": "code",
   "execution_count": 55,
   "metadata": {},
   "outputs": [
    {
     "data": {
      "text/plain": [
       "0"
      ]
     },
     "execution_count": 55,
     "metadata": {},
     "output_type": "execute_result"
    }
   ],
   "source": [
    "def conflits_urgence(sejours, operations):\n",
    "    # join operations and sejours on operation index\n",
    "    sejours_ = pd.merge(sejours, operations, left_on='id', right_on='sejour')\n",
    "    return sejours_.loc[\n",
    "        (sejours_.date_entree - sejours_.date_rdv > tolerance_urgence) &\n",
    "        (sejours_.urgence == True)\n",
    "    ].shape[0]\n",
    "\n",
    "conflits_urgence(sejours, operations)"
   ]
  },
  {
   "cell_type": "code",
   "execution_count": 56,
   "metadata": {},
   "outputs": [
    {
     "name": "stderr",
     "output_type": "stream",
     "text": [
      "  1%|          | 50/5000 [00:00<00:10, 493.76it/s]"
     ]
    },
    {
     "name": "stderr",
     "output_type": "stream",
     "text": [
      "  7%|▋         | 370/5000 [00:00<00:09, 473.10it/s]\n"
     ]
    }
   ],
   "source": [
    "max_iter = 5000\n",
    "step = np.timedelta64(1, 'D').astype('timedelta64[D]')\n",
    "\n",
    "def calculer_conflits_lits(data):\n",
    "    \"\"\"Calcul le nombre de conflits de lits.\"\"\"\n",
    "    nb_patients = np.ones(len(data), dtype=int)\n",
    "\n",
    "    for i in range(len(data)):\n",
    "        nb_patients[\n",
    "            (data[:, 0] >= data[i, 0]) &\n",
    "            (data[:, 0] < data[i, 1])\n",
    "        ] += 1\n",
    "    \n",
    "    return (nb_patients - num_lits).clip(0)\n",
    "\n",
    "def resoudre_conflits_lits(sejours):\n",
    "    \"\"\"Résoud les conflits de lits.\"\"\"\n",
    "    data = pd.merge(\n",
    "        sejours,\n",
    "        operations,\n",
    "        left_on='id',\n",
    "        right_on='sejour',\n",
    "        validate='1:m'\n",
    "    ).groupby('sejour').agg({\n",
    "        'sejour': 'first',\n",
    "        'date_entree': 'min',\n",
    "        'date_sortie': 'max',\n",
    "        'date_rdv': 'min',\n",
    "        'urgence': 'any'\n",
    "    })\n",
    "\n",
    "    sejours_ids = data['sejour'].to_numpy()\n",
    "    dates = data[['date_entree', 'date_sortie']].to_numpy().astype('datetime64[D]')\n",
    "    urgences = data['urgence'].to_numpy()\n",
    "\n",
    "    sort_idx = np.argsort(dates[:, 0])\n",
    "    sejours_ids = sejours_ids[sort_idx]\n",
    "    dates = dates[sort_idx]\n",
    "    urgences = urgences[sort_idx]\n",
    "    \n",
    "    conflits = calculer_conflits_lits(dates)\n",
    "    max_conflits = conflits.max()\n",
    "\n",
    "    i = 0\n",
    "\n",
    "    progress = tqdm(total=max_iter)\n",
    "    while max_conflits > 0 and i < max_iter:\n",
    "        where = np.where((conflits > 0) & (urgences == False))[0]\n",
    "        if len(where) == 0:\n",
    "            break\n",
    "\n",
    "        idx = where[0]\n",
    "\n",
    "        dates[idx] += step\n",
    "\n",
    "        sort_idx = np.argsort(dates[:, 0])\n",
    "        sejours_ids = sejours_ids[sort_idx]\n",
    "        dates = dates[sort_idx]\n",
    "        urgences = urgences[sort_idx]\n",
    "        conflits = calculer_conflits_lits(dates)\n",
    "        max_conflits = conflits.max()\n",
    "\n",
    "        progress.update(1)\n",
    "        i += 1\n",
    "    \n",
    "    progress.close()\n",
    "\n",
    "    sejours_ = sejours.copy()\n",
    "    # reorder sejours\n",
    "    sejours_ = sejours_.set_index('id').loc[sejours_ids].reset_index()\n",
    "    sejours_['date_entree'] = dates[:, 0]\n",
    "    sejours_['date_sortie'] = dates[:, 1]\n",
    "\n",
    "    return sejours_\n",
    "\n",
    "sejours_resolu = resoudre_conflits_lits(sejours)\n",
    "sejours_resolu = ajuster_lits(sejours_resolu)"
   ]
  },
  {
   "cell_type": "code",
   "execution_count": 57,
   "metadata": {},
   "outputs": [
    {
     "data": {
      "text/plain": [
       "(0, 0)"
      ]
     },
     "execution_count": 57,
     "metadata": {},
     "output_type": "execute_result"
    }
   ],
   "source": [
    "conflits_lits(sejours_resolu), conflits_urgence(sejours_resolu, operations)"
   ]
  },
  {
   "cell_type": "code",
   "execution_count": 58,
   "metadata": {},
   "outputs": [
    {
     "data": {
      "text/plain": [
       "<matplotlib.legend.Legend at 0x7fc094c517e0>"
      ]
     },
     "execution_count": 58,
     "metadata": {},
     "output_type": "execute_result"
    },
    {
     "data": {
      "image/png": "[encoded data removed]",
      "text/plain": [
       "<Figure size 1200x300 with 1 Axes>"
      ]
     },
     "metadata": {},
     "output_type": "display_data"
    }
   ],
   "source": [
    "sejours_resolu = sejours_resolu.sort_values('date_entree')\n",
    "\n",
    "plt.figure(figsize=(12, 3))\n",
    "plt.plot(sejours['date_entree'], nb_patients_sejours(sejours), label='Nombre de patients en séjour (avec conflits)')\n",
    "plt.plot(sejours_resolu['date_entree'], nb_patients_sejours(sejours_resolu), label='Nombre de patients en séjour (sans conflits)')\n",
    "plt.hlines(num_lits, sejours_resolu['date_entree'].min(), sejours_resolu['date_entree'].max(), color='red', linestyles='dashed', label='Nombre de lits')\n",
    "\n",
    "plt.xlabel('Date')\n",
    "plt.ylabel('Nombre de patients en séjour')\n",
    "plt.legend()"
   ]
  },
  {
   "cell_type": "code",
   "execution_count": 59,
   "metadata": {},
   "outputs": [
    {
     "name": "stderr",
     "output_type": "stream",
     "text": [
      "/home/codespace/.local/lib/python3.10/site-packages/_plotly_utils/basevalidators.py:105: FutureWarning:\n",
      "\n",
      "The behavior of DatetimeProperties.to_pydatetime is deprecated, in a future version this will return a Series containing python datetime objects instead of an ndarray. To retain the old behavior, call `np.array` on the result\n",
      "\n"
     ]
    },
    {
     "data": {
      "application/vnd.plotly.v1+json": {
       "config": {
        "plotlyServerURL": "https://plot.ly"
       },
       "data": [
        {
         "alignmentgroup": "True",
         "base": [
          "2024-01-01T00:00:00",
          "2024-01-01T00:00:00",
          "2024-01-01T00:00:00",
          "2024-01-01T00:00:00",
          "2024-01-02T00:00:00",
          "2024-01-02T00:00:00",
          "2024-01-02T00:00:00",
          "2024-01-02T00:00:00",
          "2024-01-02T00:00:00",
          "2024-01-02T00:00:00",
          "2024-01-03T00:00:00",
          "2024-01-03T00:00:00",
          "2024-01-03T00:00:00",
          "2024-01-03T00:00:00",
          "2024-01-04T00:00:00",
          "2024-01-04T00:00:00",
          "2024-01-04T00:00:00",
          "2024-01-05T00:00:00",
          "2024-01-05T00:00:00",
          "2024-01-05T00:00:00",
          "2024-01-05T00:00:00",
          "2024-01-05T00:00:00",
          "2024-01-05T00:00:00",
          "2024-01-05T00:00:00",
          "2024-01-06T00:00:00",
          "2024-01-06T00:00:00",
          "2024-01-06T00:00:00",
          "2024-01-07T00:00:00",
          "2024-01-07T00:00:00",
          "2024-01-07T00:00:00",
          "2024-01-07T00:00:00",
          "2024-01-08T00:00:00",
          "2024-01-08T00:00:00",
          "2024-01-09T00:00:00",
          "2024-01-09T00:00:00",
          "2024-01-09T00:00:00",
          "2024-01-09T00:00:00",
          "2024-01-09T00:00:00",
          "2024-01-10T00:00:00",
          "2024-01-10T00:00:00",
          "2024-01-10T00:00:00",
          "2024-01-11T00:00:00",
          "2024-01-11T00:00:00",
          "2024-01-11T00:00:00",
          "2024-01-11T00:00:00",
          "2024-01-12T00:00:00",
          "2024-01-12T00:00:00",
          "2024-01-12T00:00:00",
          "2024-01-12T00:00:00",
          "2024-01-12T00:00:00",
          "2024-01-13T00:00:00",
          "2024-01-13T00:00:00",
          "2024-01-14T00:00:00",
          "2024-01-14T00:00:00",
          "2024-01-14T00:00:00",
          "2024-01-15T00:00:00",
          "2024-01-15T00:00:00",
          "2024-01-15T00:00:00",
          "2024-01-16T00:00:00",
          "2024-01-16T00:00:00",
          "2024-01-16T00:00:00",
          "2024-01-16T00:00:00",
          "2024-01-17T00:00:00",
          "2024-01-17T00:00:00",
          "2024-01-17T00:00:00",
          "2024-01-17T00:00:00",
          "2024-01-17T00:00:00",
          "2024-01-18T00:00:00",
          "2024-01-18T00:00:00",
          "2024-01-18T00:00:00",
          "2024-01-18T00:00:00",
          "2024-01-18T00:00:00",
          "2024-01-19T00:00:00",
          "2024-01-19T00:00:00",
          "2024-01-19T00:00:00",
          "2024-01-20T00:00:00",
          "2024-01-20T00:00:00",
          "2024-01-20T00:00:00",
          "2024-01-20T00:00:00",
          "2024-01-21T00:00:00",
          "2024-01-21T00:00:00",
          "2024-01-21T00:00:00",
          "2024-01-21T00:00:00",
          "2024-01-21T00:00:00",
          "2024-01-21T00:00:00",
          "2024-01-22T00:00:00",
          "2024-01-22T00:00:00",
          "2024-01-22T00:00:00",
          "2024-01-22T00:00:00",
          "2024-01-22T00:00:00",
          "2024-01-22T00:00:00",
          "2024-01-23T00:00:00",
          "2024-01-23T00:00:00",
          "2024-01-23T00:00:00",
          "2024-01-23T00:00:00",
          "2024-01-23T00:00:00",
          "2024-01-24T00:00:00",
          "2024-01-24T00:00:00",
          "2024-01-25T00:00:00",
          "2024-01-25T00:00:00",
          "2024-01-25T00:00:00",
          "2024-01-25T00:00:00",
          "2024-01-25T00:00:00",
          "2024-01-26T00:00:00",
          "2024-01-26T00:00:00",
          "2024-01-26T00:00:00",
          "2024-01-26T00:00:00",
          "2024-01-27T00:00:00",
          "2024-01-28T00:00:00",
          "2024-01-28T00:00:00",
          "2024-01-28T00:00:00",
          "2024-01-29T00:00:00",
          "2024-01-29T00:00:00",
          "2024-01-29T00:00:00",
          "2024-01-29T00:00:00",
          "2024-01-29T00:00:00",
          "2024-01-29T00:00:00",
          "2024-01-29T00:00:00",
          "2024-01-30T00:00:00",
          "2024-01-30T00:00:00",
          "2024-01-30T00:00:00",
          "2024-01-30T00:00:00",
          "2024-01-30T00:00:00",
          "2024-01-30T00:00:00",
          "2024-01-31T00:00:00",
          "2024-01-31T00:00:00",
          "2024-01-31T00:00:00",
          "2024-02-01T00:00:00",
          "2024-02-01T00:00:00",
          "2024-02-01T00:00:00",
          "2024-02-02T00:00:00",
          "2024-02-02T00:00:00",
          "2024-02-02T00:00:00",
          "2024-02-02T00:00:00",
          "2024-02-03T00:00:00",
          "2024-02-03T00:00:00",
          "2024-02-03T00:00:00",
          "2024-02-03T00:00:00",
          "2024-02-03T00:00:00",
          "2024-02-03T00:00:00",
          "2024-02-04T00:00:00",
          "2024-02-04T00:00:00",
          "2024-02-04T00:00:00",
          "2024-02-04T00:00:00",
          "2024-02-05T00:00:00",
          "2024-02-05T00:00:00",
          "2024-02-06T00:00:00",
          "2024-02-06T00:00:00",
          "2024-02-07T00:00:00",
          "2024-02-07T00:00:00",
          "2024-02-07T00:00:00",
          "2024-02-08T00:00:00",
          "2024-02-08T00:00:00",
          "2024-02-08T00:00:00",
          "2024-02-08T00:00:00",
          "2024-02-09T00:00:00",
          "2024-02-09T00:00:00",
          "2024-02-09T00:00:00",
          "2024-02-09T00:00:00",
          "2024-02-09T00:00:00",
          "2024-02-09T00:00:00",
          "2024-02-09T00:00:00",
          "2024-02-09T00:00:00",
          "2024-02-10T00:00:00",
          "2024-02-10T00:00:00",
          "2024-02-10T00:00:00",
          "2024-02-11T00:00:00",
          "2024-02-11T00:00:00",
          "2024-02-11T00:00:00",
          "2024-02-12T00:00:00",
          "2024-02-12T00:00:00",
          "2024-02-13T00:00:00",
          "2024-02-13T00:00:00",
          "2024-02-13T00:00:00",
          "2024-02-13T00:00:00",
          "2024-02-13T00:00:00",
          "2024-02-14T00:00:00",
          "2024-02-14T00:00:00",
          "2024-02-14T00:00:00",
          "2024-02-14T00:00:00",
          "2024-02-15T00:00:00",
          "2024-02-15T00:00:00",
          "2024-02-16T00:00:00",
          "2024-02-16T00:00:00",
          "2024-02-16T00:00:00",
          "2024-02-16T00:00:00",
          "2024-02-16T00:00:00",
          "2024-02-17T00:00:00",
          "2024-02-17T00:00:00",
          "2024-02-17T00:00:00",
          "2024-02-17T00:00:00",
          "2024-02-17T00:00:00",
          "2024-02-17T00:00:00",
          "2024-02-17T00:00:00",
          "2024-02-18T00:00:00",
          "2024-02-18T00:00:00",
          "2024-02-18T00:00:00",
          "2024-02-18T00:00:00",
          "2024-02-19T00:00:00",
          "2024-02-19T00:00:00",
          "2024-02-19T00:00:00",
          "2024-02-20T00:00:00",
          "2024-02-20T00:00:00",
          "2024-02-20T00:00:00",
          "2024-02-20T00:00:00",
          "2024-02-20T00:00:00",
          "2024-02-21T00:00:00",
          "2024-02-21T00:00:00",
          "2024-02-21T00:00:00",
          "2024-02-21T00:00:00",
          "2024-02-21T00:00:00",
          "2024-02-22T00:00:00",
          "2024-02-22T00:00:00",
          "2024-02-22T00:00:00",
          "2024-02-22T00:00:00",
          "2024-02-23T00:00:00",
          "2024-02-23T00:00:00",
          "2024-02-23T00:00:00",
          "2024-02-23T00:00:00",
          "2024-02-23T00:00:00",
          "2024-02-23T00:00:00",
          "2024-02-24T00:00:00",
          "2024-02-24T00:00:00",
          "2024-02-24T00:00:00",
          "2024-02-25T00:00:00",
          "2024-02-25T00:00:00",
          "2024-02-26T00:00:00",
          "2024-02-26T00:00:00",
          "2024-02-26T00:00:00",
          "2024-02-26T00:00:00",
          "2024-02-27T00:00:00",
          "2024-02-27T00:00:00",
          "2024-02-27T00:00:00",
          "2024-02-27T00:00:00",
          "2024-02-27T00:00:00",
          "2024-02-28T00:00:00",
          "2024-02-28T00:00:00",
          "2024-02-28T00:00:00",
          "2024-02-28T00:00:00",
          "2024-02-28T00:00:00",
          "2024-02-29T00:00:00",
          "2024-02-29T00:00:00",
          "2024-02-29T00:00:00",
          "2024-02-29T00:00:00",
          "2024-02-29T00:00:00",
          "2024-02-29T00:00:00",
          "2024-02-29T00:00:00",
          "2024-02-29T00:00:00",
          "2024-03-01T00:00:00",
          "2024-03-01T00:00:00",
          "2024-03-01T00:00:00",
          "2024-03-01T00:00:00",
          "2024-03-01T00:00:00",
          "2024-03-01T00:00:00",
          "2024-03-02T00:00:00",
          "2024-03-02T00:00:00",
          "2024-03-02T00:00:00",
          "2024-03-02T00:00:00",
          "2024-03-02T00:00:00",
          "2024-03-02T00:00:00",
          "2024-03-02T00:00:00"
         ],
         "hovertemplate": "date_entree=%{base}<br>date_sortie=%{x}<br>lit=%{y}<br>patient=%{marker.color}<extra></extra>",
         "legendgroup": "",
         "marker": {
          "color": [
           88,
           143,
           176,
           151,
           45,
           72,
           29,
           26,
           139,
           43,
           219,
           192,
           202,
           197,
           212,
           174,
           102,
           56,
           195,
           87,
           184,
           93,
           34,
           265,
           2,
           193,
           15,
           251,
           140,
           288,
           3,
           4,
           82,
           75,
           147,
           66,
           130,
           198,
           58,
           7,
           227,
           22,
           273,
           121,
           71,
           270,
           132,
           253,
           298,
           210,
           95,
           223,
           206,
           25,
           241,
           144,
           50,
           209,
           238,
           185,
           103,
           51,
           292,
           297,
           94,
           258,
           260,
           97,
           178,
           119,
           255,
           38,
           49,
           130,
           102,
           214,
           89,
           92,
           174,
           212,
           203,
           54,
           294,
           208,
           219,
           167,
           19,
           21,
           120,
           14,
           284,
           165,
           46,
           266,
           35,
           36,
           131,
           225,
           196,
           91,
           96,
           278,
           150,
           280,
           204,
           52,
           142,
           31,
           250,
           4,
           169,
           5,
           227,
           63,
           65,
           198,
           99,
           267,
           153,
           177,
           1,
           128,
           101,
           74,
           129,
           82,
           40,
           181,
           60,
           232,
           51,
           217,
           273,
           293,
           122,
           72,
           133,
           10,
           108,
           110,
           114,
           299,
           141,
           111,
           285,
           271,
           242,
           178,
           210,
           117,
           296,
           177,
           195,
           168,
           241,
           231,
           205,
           267,
           42,
           217,
           160,
           7,
           73,
           103,
           292,
           10,
           147,
           110,
           146,
           96,
           189,
           22,
           295,
           11,
           208,
           83,
           243,
           234,
           111,
           188,
           4,
           248,
           183,
           260,
           108,
           140,
           113,
           131,
           78,
           120,
           49,
           272,
           46,
           268,
           138,
           231,
           125,
           169,
           150,
           180,
           143,
           91,
           265,
           178,
           39,
           12,
           61,
           26,
           151,
           48,
           109,
           261,
           272,
           184,
           64,
           29,
           142,
           65,
           126,
           52,
           121,
           73,
           181,
           133,
           92,
           170,
           81,
           152,
           86,
           190,
           43,
           102,
           32,
           79,
           202,
           128,
           193,
           72,
           75,
           5,
           125,
           89,
           144,
           61,
           241,
           159,
           153,
           55,
           154,
           171,
           228,
           202,
           247,
           26,
           269,
           288,
           28,
           155,
           115,
           120,
           167
          ],
          "coloraxis": "coloraxis",
          "pattern": {
           "shape": ""
          }
         },
         "name": "",
         "offsetgroup": "",
         "orientation": "h",
         "showlegend": false,
         "textposition": "auto",
         "type": "bar",
         "x": [
          777600000,
          691200000,
          172800000,
          518400000,
          259200000,
          691200000,
          1728000000,
          691200000,
          518400000,
          432000000,
          1123200000,
          691200000,
          86400000,
          86400000,
          691200000,
          604800000,
          172800000,
          432000000,
          604800000,
          432000000,
          518400000,
          345600000,
          864000000,
          432000000,
          777600000,
          259200000,
          86400000,
          432000000,
          259200000,
          432000000,
          172800000,
          691200000,
          86400000,
          604800000,
          432000000,
          172800000,
          259200000,
          604800000,
          691200000,
          345600000,
          172800000,
          518400000,
          259200000,
          259200000,
          259200000,
          172800000,
          172800000,
          691200000,
          691200000,
          518400000,
          259200000,
          1296000000,
          86400000,
          432000000,
          86400000,
          518400000,
          86400000,
          432000000,
          432000000,
          432000000,
          345600000,
          432000000,
          518400000,
          259200000,
          691200000,
          604800000,
          345600000,
          691200000,
          86400000,
          259200000,
          432000000,
          86400000,
          259200000,
          172800000,
          172800000,
          1123200000,
          1209600000,
          86400000,
          172800000,
          691200000,
          777600000,
          432000000,
          432000000,
          691200000,
          172800000,
          345600000,
          259200000,
          172800000,
          432000000,
          345600000,
          345600000,
          172800000,
          345600000,
          604800000,
          432000000,
          691200000,
          259200000,
          1123200000,
          691200000,
          432000000,
          518400000,
          259200000,
          86400000,
          345600000,
          691200000,
          172800000,
          86400000,
          777600000,
          172800000,
          172800000,
          432000000,
          345600000,
          432000000,
          172800000,
          432000000,
          777600000,
          518400000,
          604800000,
          86400000,
          172800000,
          691200000,
          432000000,
          345600000,
          259200000,
          172800000,
          259200000,
          518400000,
          777600000,
          604800000,
          432000000,
          1296000000,
          86400000,
          1296000000,
          1209600000,
          691200000,
          518400000,
          777600000,
          86400000,
          86400000,
          345600000,
          86400000,
          777600000,
          172800000,
          259200000,
          1123200000,
          432000000,
          172800000,
          86400000,
          777600000,
          345600000,
          691200000,
          518400000,
          777600000,
          432000000,
          259200000,
          345600000,
          1123200000,
          432000000,
          604800000,
          345600000,
          86400000,
          777600000,
          604800000,
          777600000,
          691200000,
          345600000,
          86400000,
          777600000,
          604800000,
          172800000,
          86400000,
          691200000,
          345600000,
          259200000,
          691200000,
          345600000,
          691200000,
          691200000,
          86400000,
          604800000,
          345600000,
          345600000,
          86400000,
          86400000,
          1296000000,
          604800000,
          604800000,
          518400000,
          604800000,
          518400000,
          259200000,
          259200000,
          259200000,
          345600000,
          259200000,
          518400000,
          172800000,
          604800000,
          432000000,
          604800000,
          604800000,
          432000000,
          777600000,
          172800000,
          518400000,
          604800000,
          777600000,
          172800000,
          518400000,
          518400000,
          604800000,
          518400000,
          518400000,
          604800000,
          86400000,
          518400000,
          259200000,
          432000000,
          518400000,
          691200000,
          691200000,
          518400000,
          604800000,
          259200000,
          345600000,
          259200000,
          518400000,
          518400000,
          777600000,
          86400000,
          345600000,
          432000000,
          172800000,
          432000000,
          345600000,
          86400000,
          86400000,
          950400000,
          172800000,
          432000000,
          691200000,
          345600000,
          86400000,
          86400000,
          1036800000,
          777600000,
          777600000,
          86400000,
          432000000,
          172800000,
          777600000,
          345600000,
          86400000,
          518400000,
          432000000,
          259200000,
          259200000,
          345600000,
          86400000,
          518400000,
          691200000
         ],
         "xaxis": "x",
         "y": [
          0,
          1,
          2,
          3,
          4,
          5,
          6,
          7,
          8,
          9,
          2,
          10,
          11,
          12,
          13,
          12,
          11,
          4,
          14,
          15,
          16,
          17,
          18,
          19,
          11,
          20,
          21,
          3,
          9,
          21,
          22,
          23,
          8,
          1,
          8,
          17,
          20,
          22,
          0,
          4,
          5,
          7,
          9,
          10,
          12,
          15,
          13,
          14,
          3,
          5,
          16,
          17,
          4,
          8,
          9,
          4,
          9,
          10,
          1,
          2,
          9,
          11,
          16,
          13,
          15,
          12,
          7,
          0,
          5,
          18,
          19,
          20,
          20,
          8,
          5,
          3,
          9,
          10,
          13,
          8,
          7,
          5,
          2,
          1,
          4,
          6,
          10,
          11,
          13,
          14,
          18,
          20,
          4,
          16,
          19,
          21,
          12,
          11,
          23,
          22,
          10,
          15,
          20,
          0,
          2,
          5,
          6,
          4,
          5,
          6,
          12,
          18,
          17,
          14,
          15,
          8,
          1,
          13,
          0,
          5,
          6,
          7,
          16,
          19,
          0,
          10,
          14,
          20,
          5,
          21,
          18,
          12,
          0,
          3,
          2,
          9,
          10,
          12,
          15,
          16,
          1,
          7,
          12,
          15,
          1,
          4,
          11,
          12,
          12,
          6,
          8,
          5,
          11,
          13,
          14,
          23,
          9,
          15,
          16,
          17,
          19,
          21,
          22,
          20,
          19,
          4,
          2,
          6,
          14,
          2,
          10,
          7,
          10,
          13,
          17,
          23,
          2,
          4,
          5,
          15,
          8,
          5,
          3,
          12,
          13,
          16,
          22,
          0,
          3,
          10,
          11,
          12,
          18,
          23,
          21,
          19,
          1,
          14,
          5,
          8,
          20,
          1,
          6,
          11,
          12,
          18,
          23,
          7,
          15,
          17,
          21,
          11,
          9,
          4,
          2,
          0,
          2,
          7,
          10,
          16,
          22,
          5,
          3,
          19,
          14,
          1,
          20,
          12,
          2,
          8,
          8,
          15,
          17,
          18,
          19,
          21,
          1,
          7,
          9,
          11,
          21,
          17,
          14,
          10,
          1,
          4,
          0,
          6,
          10,
          9,
          14,
          5,
          6,
          23,
          16,
          13,
          19,
          6,
          3,
          8,
          22
         ],
         "yaxis": "y"
        }
       ],
       "layout": {
        "barmode": "overlay",
        "coloraxis": {
         "colorbar": {
          "title": {
           "text": "patient"
          }
         },
         "colorscale": [
          [
           0,
           "#0d0887"
          ],
          [
           0.1111111111111111,
           "#46039f"
          ],
          [
           0.2222222222222222,
           "#7201a8"
          ],
          [
           0.3333333333333333,
           "#9c179e"
          ],
          [
           0.4444444444444444,
           "#bd3786"
          ],
          [
           0.5555555555555556,
           "#d8576b"
          ],
          [
           0.6666666666666666,
           "#ed7953"
          ],
          [
           0.7777777777777778,
           "#fb9f3a"
          ],
          [
           0.8888888888888888,
           "#fdca26"
          ],
          [
           1,
           "#f0f921"
          ]
         ]
        },
        "legend": {
         "tracegroupgap": 0
        },
        "template": {
         "data": {
          "bar": [
           {
            "error_x": {
             "color": "#2a3f5f"
            },
            "error_y": {
             "color": "#2a3f5f"
            },
            "marker": {
             "line": {
              "color": "#E5ECF6",
              "width": 0.5
             },
             "pattern": {
              "fillmode": "overlay",
              "size": 10,
              "solidity": 0.2
             }
            },
            "type": "bar"
           }
          ],
          "barpolar": [
           {
            "marker": {
             "line": {
              "color": "#E5ECF6",
              "width": 0.5
             },
             "pattern": {
              "fillmode": "overlay",
              "size": 10,
              "solidity": 0.2
             }
            },
            "type": "barpolar"
           }
          ],
          "carpet": [
           {
            "aaxis": {
             "endlinecolor": "#2a3f5f",
             "gridcolor": "white",
             "linecolor": "white",
             "minorgridcolor": "white",
             "startlinecolor": "#2a3f5f"
            },
            "baxis": {
             "endlinecolor": "#2a3f5f",
             "gridcolor": "white",
             "linecolor": "white",
             "minorgridcolor": "white",
             "startlinecolor": "#2a3f5f"
            },
            "type": "carpet"
           }
          ],
          "choropleth": [
           {
            "colorbar": {
             "outlinewidth": 0,
             "ticks": ""
            },
            "type": "choropleth"
           }
          ],
          "contour": [
           {
            "colorbar": {
             "outlinewidth": 0,
             "ticks": ""
            },
            "colorscale": [
             [
              0,
              "#0d0887"
             ],
             [
              0.1111111111111111,
              "#46039f"
             ],
             [
              0.2222222222222222,
              "#7201a8"
             ],
             [
              0.3333333333333333,
              "#9c179e"
             ],
             [
              0.4444444444444444,
              "#bd3786"
             ],
             [
              0.5555555555555556,
              "#d8576b"
             ],
             [
              0.6666666666666666,
              "#ed7953"
             ],
             [
              0.7777777777777778,
              "#fb9f3a"
             ],
             [
              0.8888888888888888,
              "#fdca26"
             ],
             [
              1,
              "#f0f921"
             ]
            ],
            "type": "contour"
           }
          ],
          "contourcarpet": [
           {
            "colorbar": {
             "outlinewidth": 0,
             "ticks": ""
            },
            "type": "contourcarpet"
           }
          ],
          "heatmap": [
           {
            "colorbar": {
             "outlinewidth": 0,
             "ticks": ""
            },
            "colorscale": [
             [
              0,
              "#0d0887"
             ],
             [
              0.1111111111111111,
              "#46039f"
             ],
             [
              0.2222222222222222,
              "#7201a8"
             ],
             [
              0.3333333333333333,
              "#9c179e"
             ],
             [
              0.4444444444444444,
              "#bd3786"
             ],
             [
              0.5555555555555556,
              "#d8576b"
             ],
             [
              0.6666666666666666,
              "#ed7953"
             ],
             [
              0.7777777777777778,
              "#fb9f3a"
             ],
             [
              0.8888888888888888,
              "#fdca26"
             ],
             [
              1,
              "#f0f921"
             ]
            ],
            "type": "heatmap"
           }
          ],
          "heatmapgl": [
           {
            "colorbar": {
             "outlinewidth": 0,
             "ticks": ""
            },
            "colorscale": [
             [
              0,
              "#0d0887"
             ],
             [
              0.1111111111111111,
              "#46039f"
             ],
             [
              0.2222222222222222,
              "#7201a8"
             ],
             [
              0.3333333333333333,
              "#9c179e"
             ],
             [
              0.4444444444444444,
              "#bd3786"
             ],
             [
              0.5555555555555556,
              "#d8576b"
             ],
             [
              0.6666666666666666,
              "#ed7953"
             ],
             [
              0.7777777777777778,
              "#fb9f3a"
             ],
             [
              0.8888888888888888,
              "#fdca26"
             ],
             [
              1,
              "#f0f921"
             ]
            ],
            "type": "heatmapgl"
           }
          ],
          "histogram": [
           {
            "marker": {
             "pattern": {
              "fillmode": "overlay",
              "size": 10,
              "solidity": 0.2
             }
            },
            "type": "histogram"
           }
          ],
          "histogram2d": [
           {
            "colorbar": {
             "outlinewidth": 0,
             "ticks": ""
            },
            "colorscale": [
             [
              0,
              "#0d0887"
             ],
             [
              0.1111111111111111,
              "#46039f"
             ],
             [
              0.2222222222222222,
              "#7201a8"
             ],
             [
              0.3333333333333333,
              "#9c179e"
             ],
             [
              0.4444444444444444,
              "#bd3786"
             ],
             [
              0.5555555555555556,
              "#d8576b"
             ],
             [
              0.6666666666666666,
              "#ed7953"
             ],
             [
              0.7777777777777778,
              "#fb9f3a"
             ],
             [
              0.8888888888888888,
              "#fdca26"
             ],
             [
              1,
              "#f0f921"
             ]
            ],
            "type": "histogram2d"
           }
          ],
          "histogram2dcontour": [
           {
            "colorbar": {
             "outlinewidth": 0,
             "ticks": ""
            },
            "colorscale": [
             [
              0,
              "#0d0887"
             ],
             [
              0.1111111111111111,
              "#46039f"
             ],
             [
              0.2222222222222222,
              "#7201a8"
             ],
             [
              0.3333333333333333,
              "#9c179e"
             ],
             [
              0.4444444444444444,
              "#bd3786"
             ],
             [
              0.5555555555555556,
              "#d8576b"
             ],
             [
              0.6666666666666666,
              "#ed7953"
             ],
             [
              0.7777777777777778,
              "#fb9f3a"
             ],
             [
              0.8888888888888888,
              "#fdca26"
             ],
             [
              1,
              "#f0f921"
             ]
            ],
            "type": "histogram2dcontour"
           }
          ],
          "mesh3d": [
           {
            "colorbar": {
             "outlinewidth": 0,
             "ticks": ""
            },
            "type": "mesh3d"
           }
          ],
          "parcoords": [
           {
            "line": {
             "colorbar": {
              "outlinewidth": 0,
              "ticks": ""
             }
            },
            "type": "parcoords"
           }
          ],
          "pie": [
           {
            "automargin": true,
            "type": "pie"
           }
          ],
          "scatter": [
           {
            "fillpattern": {
             "fillmode": "overlay",
             "size": 10,
             "solidity": 0.2
            },
            "type": "scatter"
           }
          ],
          "scatter3d": [
           {
            "line": {
             "colorbar": {
              "outlinewidth": 0,
              "ticks": ""
             }
            },
            "marker": {
             "colorbar": {
              "outlinewidth": 0,
              "ticks": ""
             }
            },
            "type": "scatter3d"
           }
          ],
          "scattercarpet": [
           {
            "marker": {
             "colorbar": {
              "outlinewidth": 0,
              "ticks": ""
             }
            },
            "type": "scattercarpet"
           }
          ],
          "scattergeo": [
           {
            "marker": {
             "colorbar": {
              "outlinewidth": 0,
              "ticks": ""
             }
            },
            "type": "scattergeo"
           }
          ],
          "scattergl": [
           {
            "marker": {
             "colorbar": {
              "outlinewidth": 0,
              "ticks": ""
             }
            },
            "type": "scattergl"
           }
          ],
          "scattermapbox": [
           {
            "marker": {
             "colorbar": {
              "outlinewidth": 0,
              "ticks": ""
             }
            },
            "type": "scattermapbox"
           }
          ],
          "scatterpolar": [
           {
            "marker": {
             "colorbar": {
              "outlinewidth": 0,
              "ticks": ""
             }
            },
            "type": "scatterpolar"
           }
          ],
          "scatterpolargl": [
           {
            "marker": {
             "colorbar": {
              "outlinewidth": 0,
              "ticks": ""
             }
            },
            "type": "scatterpolargl"
           }
          ],
          "scatterternary": [
           {
            "marker": {
             "colorbar": {
              "outlinewidth": 0,
              "ticks": ""
             }
            },
            "type": "scatterternary"
           }
          ],
          "surface": [
           {
            "colorbar": {
             "outlinewidth": 0,
             "ticks": ""
            },
            "colorscale": [
             [
              0,
              "#0d0887"
             ],
             [
              0.1111111111111111,
              "#46039f"
             ],
             [
              0.2222222222222222,
              "#7201a8"
             ],
             [
              0.3333333333333333,
              "#9c179e"
             ],
             [
              0.4444444444444444,
              "#bd3786"
             ],
             [
              0.5555555555555556,
              "#d8576b"
             ],
             [
              0.6666666666666666,
              "#ed7953"
             ],
             [
              0.7777777777777778,
              "#fb9f3a"
             ],
             [
              0.8888888888888888,
              "#fdca26"
             ],
             [
              1,
              "#f0f921"
             ]
            ],
            "type": "surface"
           }
          ],
          "table": [
           {
            "cells": {
             "fill": {
              "color": "#EBF0F8"
             },
             "line": {
              "color": "white"
             }
            },
            "header": {
             "fill": {
              "color": "#C8D4E3"
             },
             "line": {
              "color": "white"
             }
            },
            "type": "table"
           }
          ]
         },
         "layout": {
          "annotationdefaults": {
           "arrowcolor": "#2a3f5f",
           "arrowhead": 0,
           "arrowwidth": 1
          },
          "autotypenumbers": "strict",
          "coloraxis": {
           "colorbar": {
            "outlinewidth": 0,
            "ticks": ""
           }
          },
          "colorscale": {
           "diverging": [
            [
             0,
             "#8e0152"
            ],
            [
             0.1,
             "#c51b7d"
            ],
            [
             0.2,
             "#de77ae"
            ],
            [
             0.3,
             "#f1b6da"
            ],
            [
             0.4,
             "#fde0ef"
            ],
            [
             0.5,
             "#f7f7f7"
            ],
            [
             0.6,
             "#e6f5d0"
            ],
            [
             0.7,
             "#b8e186"
            ],
            [
             0.8,
             "#7fbc41"
            ],
            [
             0.9,
             "#4d9221"
            ],
            [
             1,
             "#276419"
            ]
           ],
           "sequential": [
            [
             0,
             "#0d0887"
            ],
            [
             0.1111111111111111,
             "#46039f"
            ],
            [
             0.2222222222222222,
             "#7201a8"
            ],
            [
             0.3333333333333333,
             "#9c179e"
            ],
            [
             0.4444444444444444,
             "#bd3786"
            ],
            [
             0.5555555555555556,
             "#d8576b"
            ],
            [
             0.6666666666666666,
             "#ed7953"
            ],
            [
             0.7777777777777778,
             "#fb9f3a"
            ],
            [
             0.8888888888888888,
             "#fdca26"
            ],
            [
             1,
             "#f0f921"
            ]
           ],
           "sequentialminus": [
            [
             0,
             "#0d0887"
            ],
            [
             0.1111111111111111,
             "#46039f"
            ],
            [
             0.2222222222222222,
             "#7201a8"
            ],
            [
             0.3333333333333333,
             "#9c179e"
            ],
            [
             0.4444444444444444,
             "#bd3786"
            ],
            [
             0.5555555555555556,
             "#d8576b"
            ],
            [
             0.6666666666666666,
             "#ed7953"
            ],
            [
             0.7777777777777778,
             "#fb9f3a"
            ],
            [
             0.8888888888888888,
             "#fdca26"
            ],
            [
             1,
             "#f0f921"
            ]
           ]
          },
          "colorway": [
           "#636efa",
           "#EF553B",
           "#00cc96",
           "#ab63fa",
           "#FFA15A",
           "#19d3f3",
           "#FF6692",
           "#B6E880",
           "#FF97FF",
           "#FECB52"
          ],
          "font": {
           "color": "#2a3f5f"
          },
          "geo": {
           "bgcolor": "white",
           "lakecolor": "white",
           "landcolor": "#E5ECF6",
           "showlakes": true,
           "showland": true,
           "subunitcolor": "white"
          },
          "hoverlabel": {
           "align": "left"
          },
          "hovermode": "closest",
          "mapbox": {
           "style": "light"
          },
          "paper_bgcolor": "white",
          "plot_bgcolor": "#E5ECF6",
          "polar": {
           "angularaxis": {
            "gridcolor": "white",
            "linecolor": "white",
            "ticks": ""
           },
           "bgcolor": "#E5ECF6",
           "radialaxis": {
            "gridcolor": "white",
            "linecolor": "white",
            "ticks": ""
           }
          },
          "scene": {
           "xaxis": {
            "backgroundcolor": "#E5ECF6",
            "gridcolor": "white",
            "gridwidth": 2,
            "linecolor": "white",
            "showbackground": true,
            "ticks": "",
            "zerolinecolor": "white"
           },
           "yaxis": {
            "backgroundcolor": "#E5ECF6",
            "gridcolor": "white",
            "gridwidth": 2,
            "linecolor": "white",
            "showbackground": true,
            "ticks": "",
            "zerolinecolor": "white"
           },
           "zaxis": {
            "backgroundcolor": "#E5ECF6",
            "gridcolor": "white",
            "gridwidth": 2,
            "linecolor": "white",
            "showbackground": true,
            "ticks": "",
            "zerolinecolor": "white"
           }
          },
          "shapedefaults": {
           "line": {
            "color": "#2a3f5f"
           }
          },
          "ternary": {
           "aaxis": {
            "gridcolor": "white",
            "linecolor": "white",
            "ticks": ""
           },
           "baxis": {
            "gridcolor": "white",
            "linecolor": "white",
            "ticks": ""
           },
           "bgcolor": "#E5ECF6",
           "caxis": {
            "gridcolor": "white",
            "linecolor": "white",
            "ticks": ""
           }
          },
          "title": {
           "x": 0.05
          },
          "xaxis": {
           "automargin": true,
           "gridcolor": "white",
           "linecolor": "white",
           "ticks": "",
           "title": {
            "standoff": 15
           },
           "zerolinecolor": "white",
           "zerolinewidth": 2
          },
          "yaxis": {
           "automargin": true,
           "gridcolor": "white",
           "linecolor": "white",
           "ticks": "",
           "title": {
            "standoff": 15
           },
           "zerolinecolor": "white",
           "zerolinewidth": 2
          }
         }
        },
        "title": {
         "text": "Planning des lits"
        },
        "xaxis": {
         "anchor": "y",
         "domain": [
          0,
          1
         ],
         "type": "date"
        },
        "yaxis": {
         "anchor": "x",
         "domain": [
          0,
          1
         ],
         "title": {
          "text": "lit"
         }
        }
       }
      },
      "text/html": [
       "<div>                            <div id=\"9a3c6c83-d4ed-45e9-ac2d-db17999b55fe\" class=\"plotly-graph-div\" style=\"height:525px; width:100%;\"></div>            <script type=\"text/javascript\">                require([\"plotly\"], function(Plotly) {                    window.PLOTLYENV=window.PLOTLYENV || {};                                    if (document.getElementById(\"9a3c6c83-d4ed-45e9-ac2d-db17999b55fe\")) {                    Plotly.newPlot(                        \"9a3c6c83-d4ed-45e9-ac2d-db17999b55fe\",                        [{\"alignmentgroup\":\"True\",\"base\":[\"2024-01-01T00:00:00\",\"2024-01-01T00:00:00\",\"2024-01-01T00:00:00\",\"2024-01-01T00:00:00\",\"2024-01-02T00:00:00\",\"2024-01-02T00:00:00\",\"2024-01-02T00:00:00\",\"2024-01-02T00:00:00\",\"2024-01-02T00:00:00\",\"2024-01-02T00:00:00\",\"2024-01-03T00:00:00\",\"2024-01-03T00:00:00\",\"2024-01-03T00:00:00\",\"2024-01-03T00:00:00\",\"2024-01-04T00:00:00\",\"2024-01-04T00:00:00\",\"2024-01-04T00:00:00\",\"2024-01-05T00:00:00\",\"2024-01-05T00:00:00\",\"2024-01-05T00:00:00\",\"2024-01-05T00:00:00\",\"2024-01-05T00:00:00\",\"2024-01-05T00:00:00\",\"2024-01-05T00:00:00\",\"2024-01-06T00:00:00\",\"2024-01-06T00:00:00\",\"2024-01-06T00:00:00\",\"2024-01-07T00:00:00\",\"2024-01-07T00:00:00\",\"2024-01-07T00:00:00\",\"2024-01-07T00:00:00\",\"2024-01-08T00:00:00\",\"2024-01-08T00:00:00\",\"2024-01-09T00:00:00\",\"2024-01-09T00:00:00\",\"2024-01-09T00:00:00\",\"2024-01-09T00:00:00\",\"2024-01-09T00:00:00\",\"2024-01-10T00:00:00\",\"2024-01-10T00:00:00\",\"2024-01-10T00:00:00\",\"2024-01-11T00:00:00\",\"2024-01-11T00:00:00\",\"2024-01-11T00:00:00\",\"2024-01-11T00:00:00\",\"2024-01-12T00:00:00\",\"2024-01-12T00:00:00\",\"2024-01-12T00:00:00\",\"2024-01-12T00:00:00\",\"2024-01-12T00:00:00\",\"2024-01-13T00:00:00\",\"2024-01-13T00:00:00\",\"2024-01-14T00:00:00\",\"2024-01-14T00:00:00\",\"2024-01-14T00:00:00\",\"2024-01-15T00:00:00\",\"2024-01-15T00:00:00\",\"2024-01-15T00:00:00\",\"2024-01-16T00:00:00\",\"2024-01-16T00:00:00\",\"2024-01-16T00:00:00\",\"2024-01-16T00:00:00\",\"2024-01-17T00:00:00\",\"2024-01-17T00:00:00\",\"2024-01-17T00:00:00\",\"2024-01-17T00:00:00\",\"2024-01-17T00:00:00\",\"2024-01-18T00:00:00\",\"2024-01-18T00:00:00\",\"2024-01-18T00:00:00\",\"2024-01-18T00:00:00\",\"2024-01-18T00:00:00\",\"2024-01-19T00:00:00\",\"2024-01-19T00:00:00\",\"2024-01-19T00:00:00\",\"2024-01-20T00:00:00\",\"2024-01-20T00:00:00\",\"2024-01-20T00:00:00\",\"2024-01-20T00:00:00\",\"2024-01-21T00:00:00\",\"2024-01-21T00:00:00\",\"2024-01-21T00:00:00\",\"2024-01-21T00:00:00\",\"2024-01-21T00:00:00\",\"2024-01-21T00:00:00\",\"2024-01-22T00:00:00\",\"2024-01-22T00:00:00\",\"2024-01-22T00:00:00\",\"2024-01-22T00:00:00\",\"2024-01-22T00:00:00\",\"2024-01-22T00:00:00\",\"2024-01-23T00:00:00\",\"2024-01-23T00:00:00\",\"2024-01-23T00:00:00\",\"2024-01-23T00:00:00\",\"2024-01-23T00:00:00\",\"2024-01-24T00:00:00\",\"2024-01-24T00:00:00\",\"2024-01-25T00:00:00\",\"2024-01-25T00:00:00\",\"2024-01-25T00:00:00\",\"2024-01-25T00:00:00\",\"2024-01-25T00:00:00\",\"2024-01-26T00:00:00\",\"2024-01-26T00:00:00\",\"2024-01-26T00:00:00\",\"2024-01-26T00:00:00\",\"2024-01-27T00:00:00\",\"2024-01-28T00:00:00\",\"2024-01-28T00:00:00\",\"2024-01-28T00:00:00\",\"2024-01-29T00:00:00\",\"2024-01-29T00:00:00\",\"2024-01-29T00:00:00\",\"2024-01-29T00:00:00\",\"2024-01-29T00:00:00\",\"2024-01-29T00:00:00\",\"2024-01-29T00:00:00\",\"2024-01-30T00:00:00\",\"2024-01-30T00:00:00\",\"2024-01-30T00:00:00\",\"2024-01-30T00:00:00\",\"2024-01-30T00:00:00\",\"2024-01-30T00:00:00\",\"2024-01-31T00:00:00\",\"2024-01-31T00:00:00\",\"2024-01-31T00:00:00\",\"2024-02-01T00:00:00\",\"2024-02-01T00:00:00\",\"2024-02-01T00:00:00\",\"2024-02-02T00:00:00\",\"2024-02-02T00:00:00\",\"2024-02-02T00:00:00\",\"2024-02-02T00:00:00\",\"2024-02-03T00:00:00\",\"2024-02-03T00:00:00\",\"2024-02-03T00:00:00\",\"2024-02-03T00:00:00\",\"2024-02-03T00:00:00\",\"2024-02-03T00:00:00\",\"2024-02-04T00:00:00\",\"2024-02-04T00:00:00\",\"2024-02-04T00:00:00\",\"2024-02-04T00:00:00\",\"2024-02-05T00:00:00\",\"2024-02-05T00:00:00\",\"2024-02-06T00:00:00\",\"2024-02-06T00:00:00\",\"2024-02-07T00:00:00\",\"2024-02-07T00:00:00\",\"2024-02-07T00:00:00\",\"2024-02-08T00:00:00\",\"2024-02-08T00:00:00\",\"2024-02-08T00:00:00\",\"2024-02-08T00:00:00\",\"2024-02-09T00:00:00\",\"2024-02-09T00:00:00\",\"2024-02-09T00:00:00\",\"2024-02-09T00:00:00\",\"2024-02-09T00:00:00\",\"2024-02-09T00:00:00\",\"2024-02-09T00:00:00\",\"2024-02-09T00:00:00\",\"2024-02-10T00:00:00\",\"2024-02-10T00:00:00\",\"2024-02-10T00:00:00\",\"2024-02-11T00:00:00\",\"2024-02-11T00:00:00\",\"2024-02-11T00:00:00\",\"2024-02-12T00:00:00\",\"2024-02-12T00:00:00\",\"2024-02-13T00:00:00\",\"2024-02-13T00:00:00\",\"2024-02-13T00:00:00\",\"2024-02-13T00:00:00\",\"2024-02-13T00:00:00\",\"2024-02-14T00:00:00\",\"2024-02-14T00:00:00\",\"2024-02-14T00:00:00\",\"2024-02-14T00:00:00\",\"2024-02-15T00:00:00\",\"2024-02-15T00:00:00\",\"2024-02-16T00:00:00\",\"2024-02-16T00:00:00\",\"2024-02-16T00:00:00\",\"2024-02-16T00:00:00\",\"2024-02-16T00:00:00\",\"2024-02-17T00:00:00\",\"2024-02-17T00:00:00\",\"2024-02-17T00:00:00\",\"2024-02-17T00:00:00\",\"2024-02-17T00:00:00\",\"2024-02-17T00:00:00\",\"2024-02-17T00:00:00\",\"2024-02-18T00:00:00\",\"2024-02-18T00:00:00\",\"2024-02-18T00:00:00\",\"2024-02-18T00:00:00\",\"2024-02-19T00:00:00\",\"2024-02-19T00:00:00\",\"2024-02-19T00:00:00\",\"2024-02-20T00:00:00\",\"2024-02-20T00:00:00\",\"2024-02-20T00:00:00\",\"2024-02-20T00:00:00\",\"2024-02-20T00:00:00\",\"2024-02-21T00:00:00\",\"2024-02-21T00:00:00\",\"2024-02-21T00:00:00\",\"2024-02-21T00:00:00\",\"2024-02-21T00:00:00\",\"2024-02-22T00:00:00\",\"2024-02-22T00:00:00\",\"2024-02-22T00:00:00\",\"2024-02-22T00:00:00\",\"2024-02-23T00:00:00\",\"2024-02-23T00:00:00\",\"2024-02-23T00:00:00\",\"2024-02-23T00:00:00\",\"2024-02-23T00:00:00\",\"2024-02-23T00:00:00\",\"2024-02-24T00:00:00\",\"2024-02-24T00:00:00\",\"2024-02-24T00:00:00\",\"2024-02-25T00:00:00\",\"2024-02-25T00:00:00\",\"2024-02-26T00:00:00\",\"2024-02-26T00:00:00\",\"2024-02-26T00:00:00\",\"2024-02-26T00:00:00\",\"2024-02-27T00:00:00\",\"2024-02-27T00:00:00\",\"2024-02-27T00:00:00\",\"2024-02-27T00:00:00\",\"2024-02-27T00:00:00\",\"2024-02-28T00:00:00\",\"2024-02-28T00:00:00\",\"2024-02-28T00:00:00\",\"2024-02-28T00:00:00\",\"2024-02-28T00:00:00\",\"2024-02-29T00:00:00\",\"2024-02-29T00:00:00\",\"2024-02-29T00:00:00\",\"2024-02-29T00:00:00\",\"2024-02-29T00:00:00\",\"2024-02-29T00:00:00\",\"2024-02-29T00:00:00\",\"2024-02-29T00:00:00\",\"2024-03-01T00:00:00\",\"2024-03-01T00:00:00\",\"2024-03-01T00:00:00\",\"2024-03-01T00:00:00\",\"2024-03-01T00:00:00\",\"2024-03-01T00:00:00\",\"2024-03-02T00:00:00\",\"2024-03-02T00:00:00\",\"2024-03-02T00:00:00\",\"2024-03-02T00:00:00\",\"2024-03-02T00:00:00\",\"2024-03-02T00:00:00\",\"2024-03-02T00:00:00\"],\"hovertemplate\":\"date_entree=%{base}\\u003cbr\\u003edate_sortie=%{x}\\u003cbr\\u003elit=%{y}\\u003cbr\\u003epatient=%{marker.color}\\u003cextra\\u003e\\u003c\\u002fextra\\u003e\",\"legendgroup\":\"\",\"marker\":{\"color\":[88,143,176,151,45,72,29,26,139,43,219,192,202,197,212,174,102,56,195,87,184,93,34,265,2,193,15,251,140,288,3,4,82,75,147,66,130,198,58,7,227,22,273,121,71,270,132,253,298,210,95,223,206,25,241,144,50,209,238,185,103,51,292,297,94,258,260,97,178,119,255,38,49,130,102,214,89,92,174,212,203,54,294,208,219,167,19,21,120,14,284,165,46,266,35,36,131,225,196,91,96,278,150,280,204,52,142,31,250,4,169,5,227,63,65,198,99,267,153,177,1,128,101,74,129,82,40,181,60,232,51,217,273,293,122,72,133,10,108,110,114,299,141,111,285,271,242,178,210,117,296,177,195,168,241,231,205,267,42,217,160,7,73,103,292,10,147,110,146,96,189,22,295,11,208,83,243,234,111,188,4,248,183,260,108,140,113,131,78,120,49,272,46,268,138,231,125,169,150,180,143,91,265,178,39,12,61,26,151,48,109,261,272,184,64,29,142,65,126,52,121,73,181,133,92,170,81,152,86,190,43,102,32,79,202,128,193,72,75,5,125,89,144,61,241,159,153,55,154,171,228,202,247,26,269,288,28,155,115,120,167],\"coloraxis\":\"coloraxis\",\"pattern\":{\"shape\":\"\"}},\"name\":\"\",\"offsetgroup\":\"\",\"orientation\":\"h\",\"showlegend\":false,\"textposition\":\"auto\",\"x\":[777600000.0,691200000.0,172800000.0,518400000.0,259200000.0,691200000.0,1728000000.0,691200000.0,518400000.0,432000000.0,1123200000.0,691200000.0,86400000.0,86400000.0,691200000.0,604800000.0,172800000.0,432000000.0,604800000.0,432000000.0,518400000.0,345600000.0,864000000.0,432000000.0,777600000.0,259200000.0,86400000.0,432000000.0,259200000.0,432000000.0,172800000.0,691200000.0,86400000.0,604800000.0,432000000.0,172800000.0,259200000.0,604800000.0,691200000.0,345600000.0,172800000.0,518400000.0,259200000.0,259200000.0,259200000.0,172800000.0,172800000.0,691200000.0,691200000.0,518400000.0,259200000.0,1296000000.0,86400000.0,432000000.0,86400000.0,518400000.0,86400000.0,432000000.0,432000000.0,432000000.0,345600000.0,432000000.0,518400000.0,259200000.0,691200000.0,604800000.0,345600000.0,691200000.0,86400000.0,259200000.0,432000000.0,86400000.0,259200000.0,172800000.0,172800000.0,1123200000.0,1209600000.0,86400000.0,172800000.0,691200000.0,777600000.0,432000000.0,432000000.0,691200000.0,172800000.0,345600000.0,259200000.0,172800000.0,432000000.0,345600000.0,345600000.0,172800000.0,345600000.0,604800000.0,432000000.0,691200000.0,259200000.0,1123200000.0,691200000.0,432000000.0,518400000.0,259200000.0,86400000.0,345600000.0,691200000.0,172800000.0,86400000.0,777600000.0,172800000.0,172800000.0,432000000.0,345600000.0,432000000.0,172800000.0,432000000.0,777600000.0,518400000.0,604800000.0,86400000.0,172800000.0,691200000.0,432000000.0,345600000.0,259200000.0,172800000.0,259200000.0,518400000.0,777600000.0,604800000.0,432000000.0,1296000000.0,86400000.0,1296000000.0,1209600000.0,691200000.0,518400000.0,777600000.0,86400000.0,86400000.0,345600000.0,86400000.0,777600000.0,172800000.0,259200000.0,1123200000.0,432000000.0,172800000.0,86400000.0,777600000.0,345600000.0,691200000.0,518400000.0,777600000.0,432000000.0,259200000.0,345600000.0,1123200000.0,432000000.0,604800000.0,345600000.0,86400000.0,777600000.0,604800000.0,777600000.0,691200000.0,345600000.0,86400000.0,777600000.0,604800000.0,172800000.0,86400000.0,691200000.0,345600000.0,259200000.0,691200000.0,345600000.0,691200000.0,691200000.0,86400000.0,604800000.0,345600000.0,345600000.0,86400000.0,86400000.0,1296000000.0,604800000.0,604800000.0,518400000.0,604800000.0,518400000.0,259200000.0,259200000.0,259200000.0,345600000.0,259200000.0,518400000.0,172800000.0,604800000.0,432000000.0,604800000.0,604800000.0,432000000.0,777600000.0,172800000.0,518400000.0,604800000.0,777600000.0,172800000.0,518400000.0,518400000.0,604800000.0,518400000.0,518400000.0,604800000.0,86400000.0,518400000.0,259200000.0,432000000.0,518400000.0,691200000.0,691200000.0,518400000.0,604800000.0,259200000.0,345600000.0,259200000.0,518400000.0,518400000.0,777600000.0,86400000.0,345600000.0,432000000.0,172800000.0,432000000.0,345600000.0,86400000.0,86400000.0,950400000.0,172800000.0,432000000.0,691200000.0,345600000.0,86400000.0,86400000.0,1036800000.0,777600000.0,777600000.0,86400000.0,432000000.0,172800000.0,777600000.0,345600000.0,86400000.0,518400000.0,432000000.0,259200000.0,259200000.0,345600000.0,86400000.0,518400000.0,691200000.0],\"xaxis\":\"x\",\"y\":[0,1,2,3,4,5,6,7,8,9,2,10,11,12,13,12,11,4,14,15,16,17,18,19,11,20,21,3,9,21,22,23,8,1,8,17,20,22,0,4,5,7,9,10,12,15,13,14,3,5,16,17,4,8,9,4,9,10,1,2,9,11,16,13,15,12,7,0,5,18,19,20,20,8,5,3,9,10,13,8,7,5,2,1,4,6,10,11,13,14,18,20,4,16,19,21,12,11,23,22,10,15,20,0,2,5,6,4,5,6,12,18,17,14,15,8,1,13,0,5,6,7,16,19,0,10,14,20,5,21,18,12,0,3,2,9,10,12,15,16,1,7,12,15,1,4,11,12,12,6,8,5,11,13,14,23,9,15,16,17,19,21,22,20,19,4,2,6,14,2,10,7,10,13,17,23,2,4,5,15,8,5,3,12,13,16,22,0,3,10,11,12,18,23,21,19,1,14,5,8,20,1,6,11,12,18,23,7,15,17,21,11,9,4,2,0,2,7,10,16,22,5,3,19,14,1,20,12,2,8,8,15,17,18,19,21,1,7,9,11,21,17,14,10,1,4,0,6,10,9,14,5,6,23,16,13,19,6,3,8,22],\"yaxis\":\"y\",\"type\":\"bar\"}],                        {\"template\":{\"data\":{\"histogram2dcontour\":[{\"type\":\"histogram2dcontour\",\"colorbar\":{\"outlinewidth\":0,\"ticks\":\"\"},\"colorscale\":[[0.0,\"#0d0887\"],[0.1111111111111111,\"#46039f\"],[0.2222222222222222,\"#7201a8\"],[0.3333333333333333,\"#9c179e\"],[0.4444444444444444,\"#bd3786\"],[0.5555555555555556,\"#d8576b\"],[0.6666666666666666,\"#ed7953\"],[0.7777777777777778,\"#fb9f3a\"],[0.8888888888888888,\"#fdca26\"],[1.0,\"#f0f921\"]]}],\"choropleth\":[{\"type\":\"choropleth\",\"colorbar\":{\"outlinewidth\":0,\"ticks\":\"\"}}],\"histogram2d\":[{\"type\":\"histogram2d\",\"colorbar\":{\"outlinewidth\":0,\"ticks\":\"\"},\"colorscale\":[[0.0,\"#0d0887\"],[0.1111111111111111,\"#46039f\"],[0.2222222222222222,\"#7201a8\"],[0.3333333333333333,\"#9c179e\"],[0.4444444444444444,\"#bd3786\"],[0.5555555555555556,\"#d8576b\"],[0.6666666666666666,\"#ed7953\"],[0.7777777777777778,\"#fb9f3a\"],[0.8888888888888888,\"#fdca26\"],[1.0,\"#f0f921\"]]}],\"heatmap\":[{\"type\":\"heatmap\",\"colorbar\":{\"outlinewidth\":0,\"ticks\":\"\"},\"colorscale\":[[0.0,\"#0d0887\"],[0.1111111111111111,\"#46039f\"],[0.2222222222222222,\"#7201a8\"],[0.3333333333333333,\"#9c179e\"],[0.4444444444444444,\"#bd3786\"],[0.5555555555555556,\"#d8576b\"],[0.6666666666666666,\"#ed7953\"],[0.7777777777777778,\"#fb9f3a\"],[0.8888888888888888,\"#fdca26\"],[1.0,\"#f0f921\"]]}],\"heatmapgl\":[{\"type\":\"heatmapgl\",\"colorbar\":{\"outlinewidth\":0,\"ticks\":\"\"},\"colorscale\":[[0.0,\"#0d0887\"],[0.1111111111111111,\"#46039f\"],[0.2222222222222222,\"#7201a8\"],[0.3333333333333333,\"#9c179e\"],[0.4444444444444444,\"#bd3786\"],[0.5555555555555556,\"#d8576b\"],[0.6666666666666666,\"#ed7953\"],[0.7777777777777778,\"#fb9f3a\"],[0.8888888888888888,\"#fdca26\"],[1.0,\"#f0f921\"]]}],\"contourcarpet\":[{\"type\":\"contourcarpet\",\"colorbar\":{\"outlinewidth\":0,\"ticks\":\"\"}}],\"contour\":[{\"type\":\"contour\",\"colorbar\":{\"outlinewidth\":0,\"ticks\":\"\"},\"colorscale\":[[0.0,\"#0d0887\"],[0.1111111111111111,\"#46039f\"],[0.2222222222222222,\"#7201a8\"],[0.3333333333333333,\"#9c179e\"],[0.4444444444444444,\"#bd3786\"],[0.5555555555555556,\"#d8576b\"],[0.6666666666666666,\"#ed7953\"],[0.7777777777777778,\"#fb9f3a\"],[0.8888888888888888,\"#fdca26\"],[1.0,\"#f0f921\"]]}],\"surface\":[{\"type\":\"surface\",\"colorbar\":{\"outlinewidth\":0,\"ticks\":\"\"},\"colorscale\":[[0.0,\"#0d0887\"],[0.1111111111111111,\"#46039f\"],[0.2222222222222222,\"#7201a8\"],[0.3333333333333333,\"#9c179e\"],[0.4444444444444444,\"#bd3786\"],[0.5555555555555556,\"#d8576b\"],[0.6666666666666666,\"#ed7953\"],[0.7777777777777778,\"#fb9f3a\"],[0.8888888888888888,\"#fdca26\"],[1.0,\"#f0f921\"]]}],\"mesh3d\":[{\"type\":\"mesh3d\",\"colorbar\":{\"outlinewidth\":0,\"ticks\":\"\"}}],\"scatter\":[{\"fillpattern\":{\"fillmode\":\"overlay\",\"size\":10,\"solidity\":0.2},\"type\":\"scatter\"}],\"parcoords\":[{\"type\":\"parcoords\",\"line\":{\"colorbar\":{\"outlinewidth\":0,\"ticks\":\"\"}}}],\"scatterpolargl\":[{\"type\":\"scatterpolargl\",\"marker\":{\"colorbar\":{\"outlinewidth\":0,\"ticks\":\"\"}}}],\"bar\":[{\"error_x\":{\"color\":\"#2a3f5f\"},\"error_y\":{\"color\":\"#2a3f5f\"},\"marker\":{\"line\":{\"color\":\"#E5ECF6\",\"width\":0.5},\"pattern\":{\"fillmode\":\"overlay\",\"size\":10,\"solidity\":0.2}},\"type\":\"bar\"}],\"scattergeo\":[{\"type\":\"scattergeo\",\"marker\":{\"colorbar\":{\"outlinewidth\":0,\"ticks\":\"\"}}}],\"scatterpolar\":[{\"type\":\"scatterpolar\",\"marker\":{\"colorbar\":{\"outlinewidth\":0,\"ticks\":\"\"}}}],\"histogram\":[{\"marker\":{\"pattern\":{\"fillmode\":\"overlay\",\"size\":10,\"solidity\":0.2}},\"type\":\"histogram\"}],\"scattergl\":[{\"type\":\"scattergl\",\"marker\":{\"colorbar\":{\"outlinewidth\":0,\"ticks\":\"\"}}}],\"scatter3d\":[{\"type\":\"scatter3d\",\"line\":{\"colorbar\":{\"outlinewidth\":0,\"ticks\":\"\"}},\"marker\":{\"colorbar\":{\"outlinewidth\":0,\"ticks\":\"\"}}}],\"scattermapbox\":[{\"type\":\"scattermapbox\",\"marker\":{\"colorbar\":{\"outlinewidth\":0,\"ticks\":\"\"}}}],\"scatterternary\":[{\"type\":\"scatterternary\",\"marker\":{\"colorbar\":{\"outlinewidth\":0,\"ticks\":\"\"}}}],\"scattercarpet\":[{\"type\":\"scattercarpet\",\"marker\":{\"colorbar\":{\"outlinewidth\":0,\"ticks\":\"\"}}}],\"carpet\":[{\"aaxis\":{\"endlinecolor\":\"#2a3f5f\",\"gridcolor\":\"white\",\"linecolor\":\"white\",\"minorgridcolor\":\"white\",\"startlinecolor\":\"#2a3f5f\"},\"baxis\":{\"endlinecolor\":\"#2a3f5f\",\"gridcolor\":\"white\",\"linecolor\":\"white\",\"minorgridcolor\":\"white\",\"startlinecolor\":\"#2a3f5f\"},\"type\":\"carpet\"}],\"table\":[{\"cells\":{\"fill\":{\"color\":\"#EBF0F8\"},\"line\":{\"color\":\"white\"}},\"header\":{\"fill\":{\"color\":\"#C8D4E3\"},\"line\":{\"color\":\"white\"}},\"type\":\"table\"}],\"barpolar\":[{\"marker\":{\"line\":{\"color\":\"#E5ECF6\",\"width\":0.5},\"pattern\":{\"fillmode\":\"overlay\",\"size\":10,\"solidity\":0.2}},\"type\":\"barpolar\"}],\"pie\":[{\"automargin\":true,\"type\":\"pie\"}]},\"layout\":{\"autotypenumbers\":\"strict\",\"colorway\":[\"#636efa\",\"#EF553B\",\"#00cc96\",\"#ab63fa\",\"#FFA15A\",\"#19d3f3\",\"#FF6692\",\"#B6E880\",\"#FF97FF\",\"#FECB52\"],\"font\":{\"color\":\"#2a3f5f\"},\"hovermode\":\"closest\",\"hoverlabel\":{\"align\":\"left\"},\"paper_bgcolor\":\"white\",\"plot_bgcolor\":\"#E5ECF6\",\"polar\":{\"bgcolor\":\"#E5ECF6\",\"angularaxis\":{\"gridcolor\":\"white\",\"linecolor\":\"white\",\"ticks\":\"\"},\"radialaxis\":{\"gridcolor\":\"white\",\"linecolor\":\"white\",\"ticks\":\"\"}},\"ternary\":{\"bgcolor\":\"#E5ECF6\",\"aaxis\":{\"gridcolor\":\"white\",\"linecolor\":\"white\",\"ticks\":\"\"},\"baxis\":{\"gridcolor\":\"white\",\"linecolor\":\"white\",\"ticks\":\"\"},\"caxis\":{\"gridcolor\":\"white\",\"linecolor\":\"white\",\"ticks\":\"\"}},\"coloraxis\":{\"colorbar\":{\"outlinewidth\":0,\"ticks\":\"\"}},\"colorscale\":{\"sequential\":[[0.0,\"#0d0887\"],[0.1111111111111111,\"#46039f\"],[0.2222222222222222,\"#7201a8\"],[0.3333333333333333,\"#9c179e\"],[0.4444444444444444,\"#bd3786\"],[0.5555555555555556,\"#d8576b\"],[0.6666666666666666,\"#ed7953\"],[0.7777777777777778,\"#fb9f3a\"],[0.8888888888888888,\"#fdca26\"],[1.0,\"#f0f921\"]],\"sequentialminus\":[[0.0,\"#0d0887\"],[0.1111111111111111,\"#46039f\"],[0.2222222222222222,\"#7201a8\"],[0.3333333333333333,\"#9c179e\"],[0.4444444444444444,\"#bd3786\"],[0.5555555555555556,\"#d8576b\"],[0.6666666666666666,\"#ed7953\"],[0.7777777777777778,\"#fb9f3a\"],[0.8888888888888888,\"#fdca26\"],[1.0,\"#f0f921\"]],\"diverging\":[[0,\"#8e0152\"],[0.1,\"#c51b7d\"],[0.2,\"#de77ae\"],[0.3,\"#f1b6da\"],[0.4,\"#fde0ef\"],[0.5,\"#f7f7f7\"],[0.6,\"#e6f5d0\"],[0.7,\"#b8e186\"],[0.8,\"#7fbc41\"],[0.9,\"#4d9221\"],[1,\"#276419\"]]},\"xaxis\":{\"gridcolor\":\"white\",\"linecolor\":\"white\",\"ticks\":\"\",\"title\":{\"standoff\":15},\"zerolinecolor\":\"white\",\"automargin\":true,\"zerolinewidth\":2},\"yaxis\":{\"gridcolor\":\"white\",\"linecolor\":\"white\",\"ticks\":\"\",\"title\":{\"standoff\":15},\"zerolinecolor\":\"white\",\"automargin\":true,\"zerolinewidth\":2},\"scene\":{\"xaxis\":{\"backgroundcolor\":\"#E5ECF6\",\"gridcolor\":\"white\",\"linecolor\":\"white\",\"showbackground\":true,\"ticks\":\"\",\"zerolinecolor\":\"white\",\"gridwidth\":2},\"yaxis\":{\"backgroundcolor\":\"#E5ECF6\",\"gridcolor\":\"white\",\"linecolor\":\"white\",\"showbackground\":true,\"ticks\":\"\",\"zerolinecolor\":\"white\",\"gridwidth\":2},\"zaxis\":{\"backgroundcolor\":\"#E5ECF6\",\"gridcolor\":\"white\",\"linecolor\":\"white\",\"showbackground\":true,\"ticks\":\"\",\"zerolinecolor\":\"white\",\"gridwidth\":2}},\"shapedefaults\":{\"line\":{\"color\":\"#2a3f5f\"}},\"annotationdefaults\":{\"arrowcolor\":\"#2a3f5f\",\"arrowhead\":0,\"arrowwidth\":1},\"geo\":{\"bgcolor\":\"white\",\"landcolor\":\"#E5ECF6\",\"subunitcolor\":\"white\",\"showland\":true,\"showlakes\":true,\"lakecolor\":\"white\"},\"title\":{\"x\":0.05},\"mapbox\":{\"style\":\"light\"}}},\"xaxis\":{\"anchor\":\"y\",\"domain\":[0.0,1.0],\"type\":\"date\"},\"yaxis\":{\"anchor\":\"x\",\"domain\":[0.0,1.0],\"title\":{\"text\":\"lit\"}},\"coloraxis\":{\"colorbar\":{\"title\":{\"text\":\"patient\"}},\"colorscale\":[[0.0,\"#0d0887\"],[0.1111111111111111,\"#46039f\"],[0.2222222222222222,\"#7201a8\"],[0.3333333333333333,\"#9c179e\"],[0.4444444444444444,\"#bd3786\"],[0.5555555555555556,\"#d8576b\"],[0.6666666666666666,\"#ed7953\"],[0.7777777777777778,\"#fb9f3a\"],[0.8888888888888888,\"#fdca26\"],[1.0,\"#f0f921\"]]},\"legend\":{\"tracegroupgap\":0},\"title\":{\"text\":\"Planning des lits\"},\"barmode\":\"overlay\"},                        {\"responsive\": true}                    ).then(function(){\n",
       "                            \n",
       "var gd = document.getElementById('9a3c6c83-d4ed-45e9-ac2d-db17999b55fe');\n",
       "var x = new MutationObserver(function (mutations, observer) {{\n",
       "        var display = window.getComputedStyle(gd).display;\n",
       "        if (!display || display === 'none') {{\n",
       "            console.log([gd, 'removed!']);\n",
       "            Plotly.purge(gd);\n",
       "            observer.disconnect();\n",
       "        }}\n",
       "}});\n",
       "\n",
       "// Listen for the removal of the full notebook cells\n",
       "var notebookContainer = gd.closest('#notebook-container');\n",
       "if (notebookContainer) {{\n",
       "    x.observe(notebookContainer, {childList: true});\n",
       "}}\n",
       "\n",
       "// Listen for the clearing of the current output cell\n",
       "var outputEl = gd.closest('.output');\n",
       "if (outputEl) {{\n",
       "    x.observe(outputEl, {childList: true});\n",
       "}}\n",
       "\n",
       "                        })                };                });            </script>        </div>"
      ]
     },
     "metadata": {},
     "output_type": "display_data"
    }
   ],
   "source": [
    "# px.timeline(\n",
    "#     sejours,\n",
    "#     x_start='date_entree',\n",
    "#     x_end='date_sortie',\n",
    "#     y='patient',\n",
    "#     color='lit',\n",
    "#     title='Planning des patients'\n",
    "# )\n",
    "\n",
    "px.timeline(\n",
    "    sejours_resolu,\n",
    "    x_start='date_entree',\n",
    "    x_end='date_sortie',\n",
    "    y='lit',\n",
    "    color='patient',\n",
    "    title='Planning des lits'\n",
    ")"
   ]
  }
 ],
 "metadata": {
  "kernelspec": {
   "display_name": "base",
   "language": "python",
   "name": "python3"
  },
  "language_info": {
   "codemirror_mode": {
    "name": "ipython",
    "version": 3
   },
   "file_extension": ".py",
   "mimetype": "text/x-python",
   "name": "python",
   "nbconvert_exporter": "python",
   "pygments_lexer": "ipython3",
   "version": "3.10.8"
  }
 },
 "nbformat": 4,
 "nbformat_minor": 2
}
